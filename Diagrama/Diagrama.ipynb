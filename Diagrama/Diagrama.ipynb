{
 "cells": [
  {
   "cell_type": "code",
   "execution_count": 5,
   "id": "23e4e47b",
   "metadata": {},
   "outputs": [
    {
     "data": {
      "text/plain": [
       "'diagrama_classes.png'"
      ]
     },
     "execution_count": 5,
     "metadata": {},
     "output_type": "execute_result"
    }
   ],
   "source": [
    "from graphviz import Digraph\n",
    "\n",
    "# Criando o diagrama\n",
    "dot = Digraph(comment='Diagrama UML - Classes e Interfaces', format='png')\n",
    "\n",
    "# Configurando os nós como registros\n",
    "dot.node('ReprodutorMusical', label='{{Interface | ReprodutorMusical} | + play(musica: String): void | + pause(): void | + stop(): void}', shape='record')\n",
    "dot.node('AparelhoTelefonico', label='{{Interface | AparelhoTelefonico} | + ligar(numero: String): void | + atender(): void | + desligar(): void}', shape='record')\n",
    "dot.node('NavegadorInternet', label='{{Interface | NavegadorInternet} | + exibirPagina(url: String): void | + adicionarNovaAba(): void | + atualizarPagina(): void}', shape='record')\n",
    "dot.node('IPhone', label='{Class | IPhone}', shape='record')\n",
    "\n",
    "# Relacionamentos (implementações de interfaces)\n",
    "dot.edge('ReprodutorMusical', 'IPhone', arrowhead='onormal')\n",
    "dot.edge('AparelhoTelefonico', 'IPhone', arrowhead='onormal')\n",
    "dot.edge('NavegadorInternet', 'IPhone', arrowhead='onormal')\n",
    "\n",
    "# Gerando o arquivo\n",
    "dot.render('diagrama_classes', view=True)"
   ]
  },
  {
   "cell_type": "code",
   "execution_count": null,
   "id": "6b83ea33",
   "metadata": {},
   "outputs": [],
   "source": []
  }
 ],
 "metadata": {
  "kernelspec": {
   "display_name": "Python 3 (ipykernel)",
   "language": "python",
   "name": "python3"
  },
  "language_info": {
   "codemirror_mode": {
    "name": "ipython",
    "version": 3
   },
   "file_extension": ".py",
   "mimetype": "text/x-python",
   "name": "python",
   "nbconvert_exporter": "python",
   "pygments_lexer": "ipython3",
   "version": "3.11.5"
  }
 },
 "nbformat": 4,
 "nbformat_minor": 5
}
